{
 "cells": [
  {
   "cell_type": "code",
   "execution_count": 1,
   "metadata": {},
   "outputs": [],
   "source": [
    "import sqlite3"
   ]
  },
  {
   "cell_type": "code",
   "execution_count": 2,
   "metadata": {},
   "outputs": [],
   "source": [
    "con = sqlite3.connect(\"koku_code.db\")"
   ]
  },
  {
   "cell_type": "code",
   "execution_count": 3,
   "metadata": {},
   "outputs": [],
   "source": [
    "c=con.cursor()"
   ]
  },
  {
   "cell_type": "code",
   "execution_count": 4,
   "metadata": {},
   "outputs": [
    {
     "name": "stdout",
     "output_type": "stream",
     "text": [
      "('table', 'PT', 'PT', 2, 'CREATE TABLE \"PT\" (\\n\"index\" INTEGER,\\n  \"分類\" TEXT,\\n  \"問題番号\" INTEGER,\\n  \"図ファイル名\" TEXT,\\n  \"問題文\" TEXT,\\n  \"選択肢1\" TEXT,\\n  \"選択肢2\" TEXT,\\n  \"選択肢3\" TEXT,\\n  \"選択肢4\" TEXT,\\n  \"選択肢5\" TEXT,\\n  \"解答\" REAL,\\n  \"項目\" TEXT,\\n  \"キーワード\" TEXT\\n)')\n",
      "('table', 'JU', 'JU', 3, 'CREATE TABLE \"JU\"(id integer, name text)')\n"
     ]
    }
   ],
   "source": [
    "c.execute('select * from sqlite_master WHERE type=\"table\"')\n",
    "for item in c.fetchall():\n",
    "    print (item)"
   ]
  },
  {
   "cell_type": "code",
   "execution_count": 12,
   "metadata": {},
   "outputs": [
    {
     "data": {
      "text/plain": [
       "<sqlite3.Cursor at 0x10866f570>"
      ]
     },
     "execution_count": 12,
     "metadata": {},
     "output_type": "execute_result"
    }
   ],
   "source": [
    "rename = 'ALTER table personal2 rename to JU'\n",
    "c.execute(rename)"
   ]
  },
  {
   "cell_type": "code",
   "execution_count": 10,
   "metadata": {},
   "outputs": [
    {
     "data": {
      "text/plain": [
       "<sqlite3.Cursor at 0x10866f570>"
      ]
     },
     "execution_count": 10,
     "metadata": {},
     "output_type": "execute_result"
    }
   ],
   "source": [
    "createtable = \"create table personal2(id integer, name text)\"\n",
    "c.execute(createtable)"
   ]
  },
  {
   "cell_type": "code",
   "execution_count": null,
   "metadata": {},
   "outputs": [],
   "source": []
  },
  {
   "cell_type": "code",
   "execution_count": 54,
   "metadata": {},
   "outputs": [],
   "source": [
    "select_sql='select * from PT where 問題番号=22 and 分類=\"AM48\"'\n"
   ]
  },
  {
   "cell_type": "code",
   "execution_count": 55,
   "metadata": {},
   "outputs": [],
   "source": [
    "for i in c.execute(select_sql):\n",
    "    kk1 = i"
   ]
  },
  {
   "cell_type": "code",
   "execution_count": 14,
   "metadata": {},
   "outputs": [],
   "source": [
    "pp=kk1[4]"
   ]
  },
  {
   "cell_type": "code",
   "execution_count": 15,
   "metadata": {},
   "outputs": [],
   "source": [
    "p0 = pp[:-13]"
   ]
  },
  {
   "cell_type": "code",
   "execution_count": 16,
   "metadata": {},
   "outputs": [],
   "source": [
    "p1 = pp[-12:]"
   ]
  },
  {
   "cell_type": "code",
   "execution_count": 19,
   "metadata": {},
   "outputs": [
    {
     "data": {
      "text/plain": [
       "'母指の関節可動域測定法（日本整形外科学会、日本リハビリテーション医学会基準による）で基本軸が第'"
      ]
     },
     "execution_count": 19,
     "metadata": {},
     "output_type": "execute_result"
    }
   ],
   "source": [
    "p0"
   ]
  },
  {
   "cell_type": "code",
   "execution_count": 20,
   "metadata": {},
   "outputs": [],
   "source": [
    "pp2 = p0+str(1)+p1"
   ]
  },
  {
   "cell_type": "code",
   "execution_count": 21,
   "metadata": {},
   "outputs": [
    {
     "data": {
      "text/plain": [
       "'母指の関節可動域測定法（日本整形外科学会、日本リハビリテーション医学会基準による）で基本軸が第1中手骨であるのはどれか。'"
      ]
     },
     "execution_count": 21,
     "metadata": {},
     "output_type": "execute_result"
    }
   ],
   "source": [
    "pp2"
   ]
  },
  {
   "cell_type": "code",
   "execution_count": 22,
   "metadata": {},
   "outputs": [],
   "source": [
    "upd=\"母指の関節可動域測定法（日本整形外科学会、日本リハビリテーション医学会基準による）で基本軸が第1中手骨であるのはどれか。\""
   ]
  },
  {
   "cell_type": "code",
   "execution_count": 36,
   "metadata": {},
   "outputs": [
    {
     "data": {
      "text/plain": [
       "<sqlite3.Cursor at 0x103a9b810>"
      ]
     },
     "execution_count": 36,
     "metadata": {},
     "output_type": "execute_result"
    }
   ],
   "source": [
    "c.execute('UPDATE code_0624 SET 問題文=? WHERE 問題番号=? and 分類=?',(\"母指の関節可動域測定法（日本整形外科学会、日本リハビリテーション医学会基準による）で基本軸が第1中手骨であるのはどれか。\",22,\"AM48\"))"
   ]
  },
  {
   "cell_type": "code",
   "execution_count": 52,
   "metadata": {},
   "outputs": [],
   "source": [
    "con.commit()"
   ]
  },
  {
   "cell_type": "code",
   "execution_count": 26,
   "metadata": {},
   "outputs": [
    {
     "data": {
      "text/plain": [
       "(221,\n",
       " 'AM48',\n",
       " 22,\n",
       " None,\n",
       " 'update code_0624 set 問題文 =母指の関節可動域測定法（日本整形外科学会、日本リハビリテーション医学会基準による）で基本軸が第2中手骨であるのはどれか。 where 問題番号=22 and 分類=\"AM48\"',\n",
       " '対立',\n",
       " '橈側外転',\n",
       " '掌側外転',\n",
       " 'IP関節屈曲',\n",
       " 'MCP関節屈曲',\n",
       " 5.0,\n",
       " '理学療法評価',\n",
       " None)"
      ]
     },
     "execution_count": 26,
     "metadata": {},
     "output_type": "execute_result"
    }
   ],
   "source": [
    "kk1"
   ]
  },
  {
   "cell_type": "code",
   "execution_count": 56,
   "metadata": {},
   "outputs": [
    {
     "data": {
      "text/plain": [
       "(221,\n",
       " 'AM48',\n",
       " 22,\n",
       " None,\n",
       " '母指の関節可動域測定法（日本整形外科学会、日本リハビリテーション医学会基準による）で基本軸が第1中手骨であるのはどれか。',\n",
       " '対立',\n",
       " '橈側外転',\n",
       " '掌側外転',\n",
       " 'IP関節屈曲',\n",
       " 'MCP関節屈曲',\n",
       " 5.0,\n",
       " '理学療法評価',\n",
       " None)"
      ]
     },
     "execution_count": 56,
     "metadata": {},
     "output_type": "execute_result"
    }
   ],
   "source": [
    "kk1"
   ]
  },
  {
   "cell_type": "code",
   "execution_count": 64,
   "metadata": {},
   "outputs": [],
   "source": [
    "con.close()"
   ]
  },
  {
   "cell_type": "code",
   "execution_count": 24,
   "metadata": {},
   "outputs": [
    {
     "data": {
      "text/plain": [
       "<sqlite3.Cursor at 0x10866f570>"
      ]
     },
     "execution_count": 24,
     "metadata": {},
     "output_type": "execute_result"
    }
   ],
   "source": [
    "c.execute('select * from sqlite_master where type=\"table\"')"
   ]
  },
  {
   "cell_type": "code",
   "execution_count": 23,
   "metadata": {},
   "outputs": [
    {
     "data": {
      "text/plain": [
       "<sqlite3.Cursor at 0x10866f570>"
      ]
     },
     "execution_count": 23,
     "metadata": {},
     "output_type": "execute_result"
    }
   ],
   "source": [
    "c.execute(\"VACUUM\")"
   ]
  },
  {
   "cell_type": "code",
   "execution_count": null,
   "metadata": {},
   "outputs": [],
   "source": []
  }
 ],
 "metadata": {
  "kernelspec": {
   "display_name": "Python 3",
   "language": "python",
   "name": "python3"
  },
  "language_info": {
   "codemirror_mode": {
    "name": "ipython",
    "version": 3
   },
   "file_extension": ".py",
   "mimetype": "text/x-python",
   "name": "python",
   "nbconvert_exporter": "python",
   "pygments_lexer": "ipython3",
   "version": "3.6.4"
  }
 },
 "nbformat": 4,
 "nbformat_minor": 2
}
